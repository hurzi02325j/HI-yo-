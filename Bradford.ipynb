{
 "cells": [
  {
   "cell_type": "markdown",
   "metadata": {},
   "source": [
    "# Bradford assay 기반 단백질 정량"
   ]
  },
  {
   "cell_type": "markdown",
   "metadata": {},
   "source": [
    "* 작성일: 2025-04-02\n",
    "* 학과: AI의약바이오\n",
    "* 학번: 2503110221\n",
    "* 이름: 허지윤"
   ]
  },
  {
   "cell_type": "markdown",
   "metadata": {},
   "source": [
    "## 1. 실험 목적\n",
    "\n",
    "이번 실험의 주된 목적은 **Bradford 단백질 정량법**을 이용하여 단백질 시료의 농도를 정량적으로 분석하고,  \n",
    "이 과정을 통해 분광광도법(UV-Vis Spectroscopy)의 기초 개념과 생화학적 분석 도구로서의 응용을 실제로 이해하는 데 있다.  \n",
    "\n",
    "본 실험은 크게 두 가지 핵심 단계로 나뉘며, 각각은 분석 대상, 접근 방식, 그리고 실험적 의의 측면에서 상호보완적인 역할을 수행한다.  \n",
    "\n",
    "**첫 번째 단계**: 표준 단백질(BSA: Bovine Serum Albumin)을 다양한 농도로 희석한 후, Coomassie Brilliant Blue G-250 염료와 반응시켜 생성되는 단백질-염료 복합체의 흡광도를 **595nm (λmax)** 에서 측정한다. 단백질 농도에 따른 흡광도 변화를 정량적으로 파악하고, 이를 기반으로 **표준 보정곡선(Calibration Curve)** 을 작성한다.  \n",
    "\n",
    "**두 번째 단계**: 미지 단백질 시료인 **eGFP (enhanced Green Fluorescent Protein)** 의 흡광도를 동일한 조건에서 측정하고, 앞서 작성한 표준곡선에 대입하여 해당 시료의 농도를 계산한다.  \n",
    "\n",
    "궁극적으로 본 실험은 **단백질-염료 상호작용의 원리, 흡광도와 농도 사이의 정량적 관계, UV-Vis spectrometer의 사용법**을 통합적으로 학습하는 것을 목표로 한다.  \n",
    "또한, **정확한 피펫팅, 시약 희석, 반응 시간 관리, 스펙트럼 해석** 등의 실험 기술을 습득하여 기초 생화학 실험 역량을 키우는 데 중점을 둔다.\n",
    "\n"
   ]
  },
  {
   "cell_type": "markdown",
   "metadata": {},
   "source": [
    "---\n"
   ]
  },
  {
   "cell_type": "markdown",
   "metadata": {},
   "source": [
    "## 2. 실험재료\n",
    "* 재료\n",
    "<style>\n",
    ".jp-RenderedHTMLCommon table {\n",
    "    margin-left: 0 !important;\n",
    "    margin-right: auto !imporant;\n",
    "}\n",
    "</style>"
   ]
  },
  {
   "cell_type": "markdown",
   "metadata": {},
   "source": [
    "| 시약명 | 개수 | 필요량/사용용도 |\n",
    "| - | - | - |\n",
    "| Bradford stock solution (5x Bio-Rad Protein Assay Dye Reagent Concentrate) | 1 | 1x 희석하여 10 mL 사용 |\n",
    "| BSA (Bovine Serum Albumin) 단백질 표준용액 (1.4 mg/mL stock) | 1 | Serial dilution으로 5종 농도 제조 |\n",
    "| - 표준용액 1 | 1 | 1.0 mg/mL |\n",
    "| - 표준용액 2 | 1 | 0.5 mg/mL |\n",
    "| - 표준용액 3 | 1 | 0.25 mg/mL |\n",
    "| - 표준용액 4 | 1 | 0.125 mg/mL |\n",
    "| - 표준용액 5 | 1 | 0.0625 mg/mL |\n",
    "| 미지 시료 – eGFP | - | 단백질 정량용 |\n",
    "| 1x Bradford 시약 | 1 | 총 10 mL (5x stock을 1:4 희석) |\n",
    "| 수돗물 | - | Blank 및 희석용 |\n",
    "| UV/Vis 분광광도계 | 1 | 측정용 |\n",
    "| PMMA cuvette | 다수 | 측정용 |\n",
    "| Vortex | 1 | 혼합용 |\n",
    "| 컴퓨터 및 USB | 1 | 데이터 정리 및 그래프 작성 |\n",
    "| Ep-tube (1.5 mL micro tube) | 다수 | 시료 보관 |\n",
    "| 마이크로피펫 (10 μL, 200 μL, 1000 μL) | 각 1 | 시료 취급 |\n",
    "| Yellow, Blow 팁 | 다수 | 피펫팅용 |\n",
    "| 코니칼 튜브 (conical tube) | 다수 | 희석/혼합용 |\n",
    "| 비커 | 다수 | 용액 준비용 |\n",
    "| 일회용 플라스틱 볼륨 피펫 | 다수 | 시약 분주 |\n",
    "| 피펫건 (pipette controller) | 1 | 볼륨 피펫 사용용 |\n",
    "| 시험관 랙 | 1 | 시료 고정 |\n",
    "| 얼음통 (Ice bucket) | 1 | 시료 보관용 |\n",
    "| 스펀지 | 1 | 기구 세척 |\n",
    "| 퐁퐁 | 1 | 기구 세척 |\n",
    "| 폐기물 통 (Waste Bin) | 1 | 폐액/폐기물 처리 |\n",
    "| 70% 에탄올 분무기 | 1 | 소독용 |\n",
    "| 휴지 | 1 | 실험 후 정리 |\n"
   ]
  },
  {
   "cell_type": "markdown",
   "metadata": {},
   "source": [
    "---"
   ]
  },
  {
   "cell_type": "markdown",
   "metadata": {},
   "source": [
    "## 3. 실험 방법\n",
    "\n",
    "\n",
    "### 3.1 1x Bradford 시약 제조 계산\n",
    "- 5x stock → 1x (총 10 mL)로 희석  \n",
    "- 공식: C₁V₁ = C₂V₂  \n",
    "- C₁=5, C₂=1, V₂=10 → V₁=2 mL  \n",
    "- 따라서 **2 mL stock + 8 mL 물 (1:4 비율)**\n",
    "\n",
    "\n",
    "### 3.2 1x Bradford 시약 제조\n",
    "- stock 2 mL + 물 8 mL → 코니칼 튜브  \n",
    "- Vortex로 혼합  \n",
    "- 피펫·팁은 사용 후 보관/폐기\n",
    "\n",
    "\n",
    "### 3.3 1.0 mg/mL BSA 희석용액 제조\n",
    "- 1.4 mg/mL BSA 100 μL + 물 40 μL = 1.0 mg/mL (총 140 μL)\n",
    "\n",
    "\n",
    "### 3.4 BSA 표준용액 시리얼 희석\n",
    "- 1.0 mg/mL 용액 기준 2배 희석 →  \n",
    "  - 0.5, 0.25, 0.125, 0.0625 mg/mL  \n",
    "- 방식: 이전 농도 50 μL + 물 50 μL, vortex 혼합\n",
    "\n",
    "\n",
    "### 3.5 Bradford 반응 혼합물 제조\n",
    "- **구성:** Bradford 990 μL + 시료 10 μL  \n",
    "- 준비 시료:\n",
    "  - BSA 표준 5종\n",
    "  - eGFP 미지 시료\n",
    "  - Blank (Bradford 990 μL + 물 10 μL)\n",
    "\n",
    "\n",
    "### 3.6 흡광도 측정\n",
    "- 장비: UV-Vis 분광광도계  \n",
    "- λmax = 595 nm  \n",
    "- Blank로 baseline 설정 후 BSA, eGFP 순서대로 측정\n",
    "\n",
    "\n",
    "### 3.7 데이터 처리 및 그래프 작성\n",
    "- 농도별 흡광도 기록 → Excel 그래프 작성  \n",
    "- 표준곡선 회귀분석 (R²=0.9914)  \n",
    "- eGFP 흡광도 대입 → 농도 계산\n",
    "\n",
    "\n",
    "### 3.8 기구 세척 및 정리\n",
    "- 큐벳: 증류수 → 70% 에탄올 소독 → 증류수 세척  \n",
    "- 피펫팁·소모품: 폐기물 전용 통 처리  \n",
    "- 실험대는 70% 에탄올로 닦아 정리\n",
    "\n",
    "---"
   ]
  },
  {
   "cell_type": "markdown",
   "metadata": {},
   "source": [
    "## 4. 실험 결과"
   ]
  },
  {
   "cell_type": "code",
   "execution_count": 40,
   "metadata": {},
   "outputs": [],
   "source": [
    "import pandas as pd\n",
    "import seaborn as sns\n",
    "import matplotlib as mpl\n",
    "import matplotlib.pyplot as plt\n",
    "import scipy\n",
    "import warnings\n",
    "warnings.filterwarnings('ignore')\n",
    "mpl.rcParams['font.family'] = 'Malgun Gothic'"
   ]
  },
  {
   "cell_type": "code",
   "execution_count": 26,
   "metadata": {},
   "outputs": [],
   "source": [
    "filepath = \"D:/BSA.xlsx\""
   ]
  },
  {
   "cell_type": "code",
   "execution_count": 27,
   "metadata": {},
   "outputs": [],
   "source": [
    "data = pd.read_excel(filepath)"
   ]
  },
  {
   "cell_type": "markdown",
   "metadata": {},
   "source": [
    "### 4.1 [표1] BSA 단백질 용액의 농도에 따른 595nm 흡광도 측정 결과 및 미지 시료 비교"
   ]
  },
  {
   "cell_type": "code",
   "execution_count": 28,
   "metadata": {},
   "outputs": [
    {
     "data": {
      "text/html": [
       "<div>\n",
       "<style scoped>\n",
       "    .dataframe tbody tr th:only-of-type {\n",
       "        vertical-align: middle;\n",
       "    }\n",
       "\n",
       "    .dataframe tbody tr th {\n",
       "        vertical-align: top;\n",
       "    }\n",
       "\n",
       "    .dataframe thead th {\n",
       "        text-align: right;\n",
       "    }\n",
       "</style>\n",
       "<table border=\"1\" class=\"dataframe\">\n",
       "  <thead>\n",
       "    <tr style=\"text-align: right;\">\n",
       "      <th></th>\n",
       "      <th>시료 구분</th>\n",
       "      <th>농도 (μg/mL)</th>\n",
       "      <th>흡광도 (590nm)</th>\n",
       "    </tr>\n",
       "  </thead>\n",
       "  <tbody>\n",
       "    <tr>\n",
       "      <th>0</th>\n",
       "      <td>블랭크 용액</td>\n",
       "      <td>0.0000</td>\n",
       "      <td>0.000</td>\n",
       "    </tr>\n",
       "    <tr>\n",
       "      <th>1</th>\n",
       "      <td>표준용액 1</td>\n",
       "      <td>1.0000</td>\n",
       "      <td>0.509</td>\n",
       "    </tr>\n",
       "    <tr>\n",
       "      <th>2</th>\n",
       "      <td>표준용액 2</td>\n",
       "      <td>0.5000</td>\n",
       "      <td>0.276</td>\n",
       "    </tr>\n",
       "    <tr>\n",
       "      <th>3</th>\n",
       "      <td>표준용액 3</td>\n",
       "      <td>0.2500</td>\n",
       "      <td>0.095</td>\n",
       "    </tr>\n",
       "    <tr>\n",
       "      <th>4</th>\n",
       "      <td>표준용액 4</td>\n",
       "      <td>0.1250</td>\n",
       "      <td>0.034</td>\n",
       "    </tr>\n",
       "    <tr>\n",
       "      <th>5</th>\n",
       "      <td>표준용액 5</td>\n",
       "      <td>0.0625</td>\n",
       "      <td>0.016</td>\n",
       "    </tr>\n",
       "  </tbody>\n",
       "</table>\n",
       "</div>"
      ],
      "text/plain": [
       "    시료 구분  농도 (μg/mL)  흡광도 (590nm)\n",
       "0  블랭크 용액      0.0000        0.000\n",
       "1  표준용액 1      1.0000        0.509\n",
       "2  표준용액 2      0.5000        0.276\n",
       "3  표준용액 3      0.2500        0.095\n",
       "4  표준용액 4      0.1250        0.034\n",
       "5  표준용액 5      0.0625        0.016"
      ]
     },
     "execution_count": 28,
     "metadata": {},
     "output_type": "execute_result"
    }
   ],
   "source": [
    "data"
   ]
  },
  {
   "cell_type": "code",
   "execution_count": 30,
   "metadata": {},
   "outputs": [],
   "source": [
    "x=data['농도 (μg/mL)']\n",
    "y=data['흡광도 (590nm)']"
   ]
  },
  {
   "cell_type": "code",
   "execution_count": 34,
   "metadata": {},
   "outputs": [],
   "source": [
    "slope, intercept, r_value, p_value, std_err, = scipy.stats.linregress(x, y)\n",
    "rsq = round(r_value**2)\n",
    "equation = f'$y={slope:.2f}x + {intercept:.2f}$\\n$R^2={rsq:.2f}$'"
   ]
  },
  {
   "cell_type": "code",
   "execution_count": 35,
   "metadata": {},
   "outputs": [],
   "source": [
    "unknown = 0.361"
   ]
  },
  {
   "cell_type": "code",
   "execution_count": 36,
   "metadata": {},
   "outputs": [],
   "source": [
    "unknown_cocn = (unknown-intercept)/slope"
   ]
  },
  {
   "cell_type": "code",
   "execution_count": 37,
   "metadata": {},
   "outputs": [
    {
     "data": {
      "text/plain": [
       "np.float64(0.7102447596073865)"
      ]
     },
     "execution_count": 37,
     "metadata": {},
     "output_type": "execute_result"
    }
   ],
   "source": [
    "unknown_cocn"
   ]
  },
  {
   "cell_type": "code",
   "execution_count": 39,
   "metadata": {},
   "outputs": [
    {
     "data": {
      "image/png": "[encoded data removed]",
      "text/plain": [
       "<Figure size 640x480 with 1 Axes>"
      ]
     },
     "metadata": {},
     "output_type": "display_data"
    },
    {
     "data": {
      "text/plain": [
       "<Figure size 640x480 with 0 Axes>"
      ]
     },
     "metadata": {},
     "output_type": "display_data"
    }
   ],
   "source": [
    "ax = sns.regplot(x=x, y=y)\n",
    "\n",
    "# 식 주석 (좌표를 축 비율로 두고 싶으면 transform=ax.transAxes)\n",
    "ax.annotate(\n",
    "    equation,\n",
    "    xy=(0.1, 0.1),  # 데이터 좌표. 축 비율로 하려면 xycoords='axes fraction'\n",
    "    ha='center', fontsize=12, color='blue'\n",
    ")\n",
    "\n",
    "# 예측점\n",
    "ax.scatter(unknown_cocn, unknown, color='red', s=50, label='예측값')\n",
    "\n",
    "# 축 한계(데이터 → [0,1] 비율 변환에 필요)\n",
    "xmin, xmax = ax.get_xlim()\n",
    "ymin, ymax = ax.get_ylim()\n",
    "\n",
    "# 비율로 변환\n",
    "vfrac = (unknown - ymin) / (ymax - ymin)             # 수직선 높이 비율 (0~1)\n",
    "hfrac = (unknown_cocn - xmin) / (xmax - xmin)        # 수평선 길이 비율 (0~1)\n",
    "\n",
    "# 보조선: linestyle로 고치기!\n",
    "ax.axvline(x=unknown_cocn, ymin=0, ymax=vfrac, linestyle='--', color='gray')\n",
    "ax.axhline(y=unknown, xmin=0, xmax=hfrac, linestyle='--', color='gray')\n",
    "\n",
    "ax.legend()\n",
    "\n",
    "plt.text(unknown+0.02, 0.05, f\"x = {unknown_cocn}\", fontsize=10, color='gray')\n",
    "plt.text(0.005, unknown + 0., f\"y = {unknown:.2f}\", fontsize=10, color='gray')\n",
    "plt.title(\"Bradford assay에 따른 단백질 정량\")\n",
    "plt.xlabel(\"흡광도\")\n",
    "plt.ylabel(\"BSA 농도\")\n",
    "plt.show()\n",
    "plt.tight_layout()\n",
    "\n"
   ]
  },
  {
   "cell_type": "markdown",
   "metadata": {},
   "source": [
    "### 4.2 [그림 1] : 단백질 정량 분석을 위한 BSA 표준곡선 (Calibration Curve)\n",
    "- **BSA 표준용액의 흡광도 측정 결과**  \n",
    "본 실험은 BSA(Bovine Serum Albumin) 단백질 표준용액을 Bradford 시약과 반응시킨 후, 595nm 파장에서 흡광도를 측정하여 단백질 농도와 흡광도의 정량적 관계를 규명하였다.  \n",
    "농도별 흡광도는 다음과 같다.  \n",
    "\n",
    "  - 0 mg/mL: 0.000  \n",
    "  - 0.0625 mg/mL: 0.016  \n",
    "  - 0.125 mg/mL: 0.034  \n",
    "  - 0.25 mg/mL: 0.095  \n",
    "  - 0.5 mg/mL: 0.276  \n",
    "  - 1.0 mg/mL: 0.509  \n",
    "  \n",
    "  단백질 농도가 증가할수록 흡광도가 비례적으로 증가하여 Bradford 정량 분석 원리와 일치함을 확인하였다.  \n",
    "\n",
    "\n",
    "- **표준곡선 및 결정계수 분석**  \n",
    "작성된 표준곡선의 회귀식은 *y = 0.5318x - 0.0167* 이며, 결정계수(R²)는 0.9914였다. \n",
    "이는 일반적 기준값(0.998)에는 다소 미치지 못했으나, 실험의 정량적 분석 목적을 달성하기에 충분한 수준이었다.  \n",
    "\n",
    "- **미지 단백질 시료(eGFP) 농도 계산**  \n",
    "eGFP의 595nm 흡광도는 0.361이었으며, 회귀식에 대입한 결과 약 0.710 mg/mL의 단백질 농도로 계산되었다. \n",
    "이는 표준곡선의 직선 범위 내에 포함되어 분석 결과의 신뢰도를 확보할 수 있었다.  "
   ]
  },
  {
   "cell_type": "markdown",
   "metadata": {},
   "source": [
    "---\n"
   ]
  },
  {
   "cell_type": "markdown",
   "metadata": {},
   "source": [
    "## 5. 결론\n",
    "1. BSA 표준용액의 흡광도 측정 결과\n",
    "본 실험은 BSA(Bovine Serum Albumin) 단백질 표준용액을 기반으로 Bradford 시약과 반응시킨 후, 595nm 파장에서 흡광도(Absorbance)를 측정하여 단백질 농도와 흡광도 간의 정량적 관계를 규명하는 데 중점을 두었다. 측정된 데이터는 약 2배씩 농도를 희석하여 구성된 6종의 표준 시료(0 ~ 1.0 mg/mL)를 대상으로 하였으며, 그 결과 흡광도는 농도 증가에 따라 뚜렷한 증가 경향을 보였다. \n",
    "\n",
    "\n",
    "2. 표준곡선 및 결정계수 분석\n",
    " 수집된 데이터를 바탕으로 작성된 표준곡선(Calibration Curve)은 선형 회귀 분석 결과 y = 0.5318x - 0.0167이라는 회귀식을 도출하였으며, 결정계수(R²)는 0.9914로 계산되었다. 이 값은 일반적인 직선성 판단 기준(0.998)에는 다소 미치지 못했지만, 전체 데이터의 정합성과 반복 측정의 안정성을 고려할 때 실험의 정량적 분석 목적을 충분히 달성한 것으로 판단된다. \n",
    "\n",
    "3. 미지 단백질 시료(eGFP)의 농도 계산\n",
    " 교수님으로부터 제공받은 미지 단백질 시료(eGFP)의 595nm 파장에서의 흡광도는 0.361로 측정되었으며, 이를 표준곡선의 회귀식에 대입하여 농도를 역산한 결과, 해당 시료의 단백질 농도는 약 0.710 mg/mL로 계산되었다. 이 수치는 보정곡선의 선형 범위 내에 포함되어 있어, 분석 결과의 정확성과 신뢰성이 있음을 확인할 수 있었다. 결론적으로, 본 실험을 통해 Bradford 정량 분석의 원리와 실험 절차를 정확히 이해하고, 이를 바탕으로 단백질 시료의 농도를 정량화할 수 있는 방법론을 실질적으로 적용할 수 있었다. 더불어, 본 결과는 향후 다양한 단백질 시료 분석에 있어 보정곡선 기반의 흡광도-농도 상관관계가 매우 유용한 도구가 될 수 있음을 시사한다.\n",
    "\n",
    "\n",
    "---\n",
    "\n",
    "## 6. 고찰\n",
    "1. **실험 과정에서의 반복과 시행착오**  \n",
    "실험 과정에서 피펫팅 오차, 큐벳 정렬, 혼합 정도 등으로 인해 음수 흡광도나 선형성이 무너지는 사례가 발생하여 7~8차례 반복 실험을 수행해야 했다. \n",
    "이를 통해 ‘한 번에 정확한 결과’를 얻는 것보다 반복과 확인을 통한 오차 최소화가 본질적으로 중요함을 깨달았다.  \n",
    "결국 데이터의 신뢰도는 수치뿐 아니라 실험자의 조작 숙련도와 꼼꼼함에 크게 좌우됨을 체감했다.  \n",
    "\n",
    "2. **미지 시료 분석의 의미**  \n",
    "eGFP 시료의 흡광도(0.361)를 바탕으로 계산한 농도(약 0.710 mg/mL)는 보정곡선 범위 내에 속하여 신뢰도가 높았다. \n",
    "흡광도 하나의 측정값으로도 보정곡선을 통해 단백질 농도를 정확히 산출할 수 있다는 사실을 경험했다.  \n",
    "\n",
    "3. **실험의 의의 및 향후 기대**  \n",
    "이번 Bradford 정량 분석 실험을 통해 단백질 농도 분석의 기본 원리를 실질적으로 체득하였으며, \n",
    "단순히 수식을 이해하는 수준을 넘어 실험 설계, 데이터 해석, 반복 검증의 중요성을 깨달았다. \n",
    "향후 다양한 생물학적 시료 분석이나 진단적 응용에도 활용 가능한 기반 지식을 얻었으며, \n",
    "보고서 작성 및 논리적 데이터 전개 능력 향상에도 도움이 될 것으로 기대된다.\n"
   ]
  },
  {
   "cell_type": "markdown",
   "metadata": {},
   "source": []
  }
 ],
 "metadata": {
  "kernelspec": {
   "display_name": "Python 3",
   "language": "python",
   "name": "python3"
  },
  "language_info": {
   "codemirror_mode": {
    "name": "ipython",
    "version": 3
   },
   "file_extension": ".py",
   "mimetype": "text/x-python",
   "name": "python",
   "nbconvert_exporter": "python",
   "pygments_lexer": "ipython3",
   "version": "3.11.9"
  }
 },
 "nbformat": 4,
 "nbformat_minor": 2
}
